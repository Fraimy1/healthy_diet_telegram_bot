{
 "cells": [
  {
   "cell_type": "code",
   "execution_count": 3,
   "metadata": {},
   "outputs": [
    {
     "name": "stdout",
     "output_type": "stream",
     "text": [
      "/home/blaze/projects/sechenov_restructured\n"
     ]
    }
   ],
   "source": [
    "cd .."
   ]
  },
  {
   "cell_type": "code",
   "execution_count": 4,
   "metadata": {},
   "outputs": [],
   "source": [
    "from utils.data_processor import get_sorted_user_receipts"
   ]
  },
  {
   "cell_type": "code",
   "execution_count": 5,
   "metadata": {},
   "outputs": [
    {
     "data": {
      "text/plain": [
       "[{'receipt_id': '67433699025375dfff84243f',\n",
       "  'user_id': 968466884,\n",
       "  'purchase_datetime': datetime.datetime(2024, 11, 24, 16, 29),\n",
       "  'total_sum': 200.0,\n",
       "  'in_history': True},\n",
       " {'receipt_id': '674bda2428f82e4355a8c467',\n",
       "  'user_id': 968466884,\n",
       "  'purchase_datetime': datetime.datetime(2024, 11, 24, 15, 45),\n",
       "  'total_sum': 1448.0,\n",
       "  'in_history': True},\n",
       " {'receipt_id': '674bda1ffc92c42a2fbcb71e',\n",
       "  'user_id': 968466884,\n",
       "  'purchase_datetime': datetime.datetime(2024, 11, 24, 15, 44),\n",
       "  'total_sum': 944.11,\n",
       "  'in_history': True},\n",
       " {'receipt_id': '674bda3528f82e4355a8c468',\n",
       "  'user_id': 968466884,\n",
       "  'purchase_datetime': datetime.datetime(2024, 11, 24, 13, 2),\n",
       "  'total_sum': 175.0,\n",
       "  'in_history': True},\n",
       " {'receipt_id': '6745ecda28f82e4355a78eee',\n",
       "  'user_id': 968466884,\n",
       "  'purchase_datetime': datetime.datetime(2024, 11, 24, 10, 22),\n",
       "  'total_sum': 109.98,\n",
       "  'in_history': True},\n",
       " {'receipt_id': '6745ecdefc92c42a2fbb844c',\n",
       "  'user_id': 968466884,\n",
       "  'purchase_datetime': datetime.datetime(2024, 11, 24, 10, 20),\n",
       "  'total_sum': 263.85,\n",
       "  'in_history': True},\n",
       " {'receipt_id': '67422cebfc92c42a2fbabbdf',\n",
       "  'user_id': 968466884,\n",
       "  'purchase_datetime': datetime.datetime(2024, 11, 22, 18, 52),\n",
       "  'total_sum': 285.84,\n",
       "  'in_history': True},\n",
       " {'receipt_id': '67422922025375dfff840df5',\n",
       "  'user_id': 968466884,\n",
       "  'purchase_datetime': datetime.datetime(2024, 11, 22, 17, 50),\n",
       "  'total_sum': 96.64,\n",
       "  'in_history': True},\n",
       " {'receipt_id': '67422b4528f82e4355a6c8b2',\n",
       "  'user_id': 968466884,\n",
       "  'purchase_datetime': datetime.datetime(2024, 11, 22, 17, 38),\n",
       "  'total_sum': 395.0,\n",
       "  'in_history': True},\n",
       " {'receipt_id': '674550cf025375dfff849ccf',\n",
       "  'user_id': 968466884,\n",
       "  'purchase_datetime': datetime.datetime(2024, 11, 22, 8, 9),\n",
       "  'total_sum': 219.92,\n",
       "  'in_history': True},\n",
       " {'receipt_id': '673df776025375dfff834a2a',\n",
       "  'user_id': 968466884,\n",
       "  'purchase_datetime': datetime.datetime(2024, 11, 20, 17, 35),\n",
       "  'total_sum': 210.46,\n",
       "  'in_history': True},\n",
       " {'receipt_id': '673df782025375dfff834a2b',\n",
       "  'user_id': 968466884,\n",
       "  'purchase_datetime': datetime.datetime(2024, 11, 20, 17, 25),\n",
       "  'total_sum': 463.77,\n",
       "  'in_history': True},\n",
       " {'receipt_id': '673b7fb6fc92c42a2fb96b91',\n",
       "  'user_id': 968466884,\n",
       "  'purchase_datetime': datetime.datetime(2024, 11, 12, 17, 55),\n",
       "  'total_sum': 309.79,\n",
       "  'in_history': True},\n",
       " {'receipt_id': '673a46d3025375dfff825c34',\n",
       "  'user_id': 968466884,\n",
       "  'purchase_datetime': datetime.datetime(2024, 11, 10, 20, 41),\n",
       "  'total_sum': 1494.78,\n",
       "  'in_history': True},\n",
       " {'receipt_id': '673a46cc025375dfff825c33',\n",
       "  'user_id': 968466884,\n",
       "  'purchase_datetime': datetime.datetime(2024, 11, 3, 13, 54),\n",
       "  'total_sum': 1307.2,\n",
       "  'in_history': True},\n",
       " {'receipt_id': '673a461628f82e4355a5270b',\n",
       "  'user_id': 968466884,\n",
       "  'purchase_datetime': datetime.datetime(2024, 11, 2, 16, 33),\n",
       "  'total_sum': 717.73,\n",
       "  'in_history': True},\n",
       " {'receipt_id': '673a466f28f82e4355a52713',\n",
       "  'user_id': 968466884,\n",
       "  'purchase_datetime': datetime.datetime(2024, 10, 3, 14, 53),\n",
       "  'total_sum': 239.98,\n",
       "  'in_history': True},\n",
       " {'receipt_id': '673a46b7fc92c42a2fb917e6',\n",
       "  'user_id': 968466884,\n",
       "  'purchase_datetime': datetime.datetime(2024, 9, 14, 18, 10),\n",
       "  'total_sum': 573.0,\n",
       "  'in_history': True},\n",
       " {'receipt_id': '673a46c7025375dfff825c32',\n",
       "  'user_id': 968466884,\n",
       "  'purchase_datetime': datetime.datetime(2024, 9, 14, 15, 21),\n",
       "  'total_sum': 269.98,\n",
       "  'in_history': True},\n",
       " {'receipt_id': '673a4685fc92c42a2fb917e0',\n",
       "  'user_id': 968466884,\n",
       "  'purchase_datetime': datetime.datetime(2024, 9, 14, 15, 19),\n",
       "  'total_sum': 499.98,\n",
       "  'in_history': True},\n",
       " {'receipt_id': '673a46bffc92c42a2fb917e7',\n",
       "  'user_id': 968466884,\n",
       "  'purchase_datetime': datetime.datetime(2024, 9, 14, 15, 16),\n",
       "  'total_sum': 2208.95,\n",
       "  'in_history': True},\n",
       " {'receipt_id': '673a465728f82e4355a5270f',\n",
       "  'user_id': 968466884,\n",
       "  'purchase_datetime': datetime.datetime(2024, 9, 12, 9, 19),\n",
       "  'total_sum': 162.0,\n",
       "  'in_history': True}]"
      ]
     },
     "execution_count": 5,
     "metadata": {},
     "output_type": "execute_result"
    }
   ],
   "source": [
    "get_sorted_user_receipts(968466884)"
   ]
  }
 ],
 "metadata": {
  "kernelspec": {
   "display_name": "gpu_env",
   "language": "python",
   "name": "python3"
  },
  "language_info": {
   "codemirror_mode": {
    "name": "ipython",
    "version": 3
   },
   "file_extension": ".py",
   "mimetype": "text/x-python",
   "name": "python",
   "nbconvert_exporter": "python",
   "pygments_lexer": "ipython3",
   "version": "3.9.21"
  }
 },
 "nbformat": 4,
 "nbformat_minor": 2
}
